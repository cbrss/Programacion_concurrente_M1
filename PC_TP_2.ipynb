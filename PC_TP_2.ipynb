{
  "nbformat": 4,
  "nbformat_minor": 0,
  "metadata": {
    "colab": {
      "provenance": [],
      "authorship_tag": "ABX9TyOvCRfsrl0Qa/c1ZKZxX90l",
      "include_colab_link": true
    },
    "kernelspec": {
      "name": "python3",
      "display_name": "Python 3"
    },
    "language_info": {
      "name": "python"
    }
  },
  "cells": [
    {
      "cell_type": "markdown",
      "metadata": {
        "id": "view-in-github",
        "colab_type": "text"
      },
      "source": [
        "<a href=\"https://colab.research.google.com/github/cbrss/Programacion_concurrente_M1/blob/main/Tp2.ipynb\" target=\"_parent\"><img src=\"https://colab.research.google.com/assets/colab-badge.svg\" alt=\"Open In Colab\"/></a>"
      ]
    },
    {
      "cell_type": "markdown",
      "source": [
        "Creacion del archivo para contar caracteres"
      ],
      "metadata": {
        "id": "bSFd2nhxq3H1"
      }
    },
    {
      "cell_type": "code",
      "source": [
        "name_file=\"test.txt\"\n",
        "try:\n",
        " f = open(name_file, \"x\")\n",
        " for i in range(1,1233):\n",
        "    f.write(\"loremloremloremloremloremloremloremloremloremloremloremloremloremloremloremloremloremloremloremloremloremloremloremloremloremloremloremloremloremloremloremloremloremloremloremloremloremloremloremloremloremloremloremloremloremloremloremloremloremloremloremloremloremloremloremloremloremloremloremloremloremloremloremloremloremloremloremloremloremloremloremloremloremloremloremloremloremloremloremloremloremloremloremloremloremloremloremloremloremloremloremloremloremloremloremloremloremloremloremloremloremloremloremloremloremloremloremloremloremloremloremloremloremloremloremloremloremloremloremloremloremloremloremloremloremloremloremloremloremloremloremloremloremloremloremloremloremloremloremloremloremloremloremloremloremloremloremloremloremloremloremloremloremloremloremloremloremloremloremloremloremloremloremloremloremloremloremloremloremloremloremloremloremloremloremloremloremloremloremloremloremloremloremloremloremloremloremloremloremloremloremloremloremloremloremloremloremloremloremloremloremloremloremloremloremloremloremloremloremloremloremloremloremloremloremloremloremloremloremloremloremloremloremloremloremloremloremloremloremloremloremloremloremloremloremloremloremloremloremloremloremloremloremloremloremloremloremloremloremloremloremloremloremloremloremloremloremloremloremloremloremloremloremloremloremloremloremloremloremloremloremloremloremloremloremloremloremloremloremloremloremloremloremloremloremloremloremloremloremloremloremloremloremloremloremloremloremloremloremloremloremloremloremloremloremloremloremloremloremloremloremloremloremloremloremloremloremloremloremloremloremloremloremloremloremloremloremloremloremloremloremloremloremloremloremloremloremloremloremloremloremloremloremloremloremloremloremloremloremloremloremloremloremloremloremloremloremloremloremloremloremloremloremloremloremloremloremloremloremloremloremloremloremloremloremloremloremloremloremloremloremloremloremloremloremloremloremloremloremloremloremloremloremloremloremloremloremloremloremloremloremloremloremloremloremloremloremloremloremloremloremloremloremloremloremloremloremloremloremloremloremloremloremloremloremloremloremloremloremloremloremloremloremloremloremloremloremloremloremloremloremloremloremloremloremloremloremloremloremloremloremloremloremloremloremloremloremloremloremloremloremloremloremloremloremloremloremloremloremloremloremloremloremloremloremloremloremloremloremloremloremloremloremloremloremloremloremloremloremloremloremloremloremloremloremloremloremloremloremloremloremloremloremloremloremloremloremloremloremloremloremloremloremloremloremloremloremloremloremloremloremloremloremloremloremloremloremloremloremloremloremloremloremloremloremloremloremloremloremloremloremloremloremloremloremloremloremloremloremloremloremloremloremloremloremloremloremloremloremloremloremloremloremloremloremloremloremloremloremloremloremloremloremloremloremloremloremloremloremloremloremloremloremloremloremloremloremloremloremloremloremloremloremloremloremloremloremloremloremloremloremloremloremloremloremloremloremloremloremloremloremloremloremloremloremloremloremloremloremloremloremloremloremloremloremloremloremloremloremloremloremloremloremloremloremloremloremloremloremloremloremloremloremloremloremloremloremloremloremloremloremloremloremloremloremloremloremloremloremloremloremloremloremloremloremloremloremloremloremloremloremloremloremloremloremloremloremloremloremloremloremloremloremloremloremloremloremloremloremloremloremloremloremloremloremloremloremloremloremloremloremloremloremloremloremloremloremloremloremloremloremloremloremloremloremloremloremloremloremloremloremloremloremloremloremloremloremloremloremloremloremloremloremloremloremloremloremloremloremloremloremloremloremloremloremloremloremloremloremloremloremloremloremloremloremloremloremloremloremloremloremloremloremloremloremloremloremloremloremloremloremloremloremloremloremloremloremloremloremloremloremloremloremloremloremloremloremloremloremloremloremloremloremloremloremloremloremloremloremloremloremloremloremloremloremloremloremloremloremloremloremloremloremloremloremloremloremloremloremloremloremloremloremloremloremloremloremloremloremloremloremloremloremloremloremloremloremloremloremloremloremloremloremloremloremloremloremloremloremloremloremloremloremloremloremloremloremloremloremloremloremloremloremloremloremloremloremloremloremloremloremloremloremloremloremloremloremloremloremloremloremloremloremloremloremloremloremloremloremloremloremloremloremloremloremloremloremloremloremloremloremloremloremloremloremloremloremloremloremloremloremloremloremloremloremloremloremloremloremloremloremloremloremloremloremloremloremloremloremloremloremloremloremloremloremloremloremloremloremloremloremloremloremloremloremloremloremloremloremloremloremloremloremloremloremloremloremloremloremloremloremloremloremloremloremloremloremloremloremloremloremloremloremloremloremloremloremloremloremloremloremloremloremloremloremloremloremloremloremloremloremloremloremloremloremloremloremloremloremloremloremloremloremloremloremloremloremloremloremloremloremloremloremloremloremloremloremloremloremloremloremloremloremloremloremloremloremloremloremloremloremloremloremloremloremloremloremloremloremloremloremloremloremloremloremloremloremloremloremloremloremloremloremloremloremloremloremloremloremloremloremloremloremloremloremloremloremloremloremloremloremloremloremloremloremloremloremloremloremloremloremloremloremloremloremloremloremloremloremloremloremloremloremloremloremloremloremloremloremloremloremloremloremloremloremloremloremloremloremloremloremloremloremloremloremloremloremloremloremloremloremloremloremloremloremloremloremloremloremloremloremloremloremloremloremloremloremloremloremloremloremloremloremloremloremloremloremloremloremloremloremloremloremloremloremloremloremloremloremloremloremloremloremloremloremloremloremloremloremloremloremloremloremloremloremloremloremloremloremloremloremloremloremloremloremloremloremloremloremloremloremloremloremloremloremloremloremloremloremloremloremloremloremloremloremloremloremloremloremloremloremloremloremloremloremloremloremloremloremloremloremloremloremloremloremloremloremloremloremloremloremloremloremloremloremloremloremloremloremloremloremloremloremloremloremloremloremloremloremloremloremloremloremloremloremloremloremloremloremloremloremloremloremloremloremloremloremloremloremloremloremloremloremloremloremloremloremloremloremloremloremloremloremloremloremloremloremloremloremloremloremloremloremloremloremloremloremloremloremloremloremloremloremloremloremloremloremloremloremloremloremloremloremloremloremloremloremloremloremloremloremloremloremloremloremloremloremloremloremloremloremloremloremloremloremloremloremloremloremloremloremloremloremloremloremloremloremloremloremloremloremloremloremloremloremloremloremloremloremloremloremloremloremloremloremloremloremloremloremloremloremloremloremloremloremloremloremloremloremloremloremloremloremloremloremloremloremloremloremloremloremloremloremloremloremloremloremloremloremloremloremloremloremloremloremloremloremloremloremloremloremloremloremloremloremloremloremloremloremloremloremloremloremloremloremloremloremloremloremloremloremloremloremloremloremloremloremloremloremloremloremloremloremloremloremloremloremloremloremloremloremloremloremloremloremloremloremloremloremloremloremloremloremloremloremloremloremloremloremloremloremloremloremloremloremloremloremloremloremloremloremloremloremloremloremloremloremloremloremloremloremloremloremloremloremloremloremloremloremloremloremloremloremloremloremloremloremloremloremloremloremloremloremloremloremloremloremloremloremloremloremloremloremloremloremloremloremloremloremloremloremloremloremloremloremloremloremloremloremloremloremloremloremloremloremloremloremloremloremloremloremloremloremloremloremloremloremloremloremloremloremloremloremloremloremlorem\\n\")\n",
        " f.write(\"loremloremloremloremloremloremloremloremloremloremloremloremloremloremloremloremloremloremloremloremloremloremloremloremloremloremloremloremloremloremloremloremloremloremloremloremloremloremloremloremloremloremloremloremloremloremloremloremloremloremloremloremloremloremloremloremloremloremloremloremloremloremloremloremloremloremloremloremloremloremloremloremloremloremloremloremloremloremloremloremloremloremloremloremloremloremloremloremloremloremloremloremloremloremloremloremloremloremloremloremloremloremloremloremloremloremloremloremloremloremloremloremloremloremloremloremloremloremloremloremloremloremloremloremloremloremloremloremloremloremloremloremloremloremloremloremloremloremloremloremloremloremloremloremloremloremloremloremloremloremloremloremloremloremloremloremloremloremloremloremloremloremloremloremloremloremloremloremloremloremloremloremloremloremloremloremloremloremloremloremloremloremloremloremloremloremloremloremloremloremloremloremloremloremloremloremloremloremloremloremloremloremloremloremloremloremloremloremloremloremloremloremloremloremloremloremloremloremloremloremloremloremloremloremloremloremloremloremloremloremloremloremloremloremloremloremloremloremloremloremloremloremloremloremloremloremloremloremloremloremloremloremloremloremloremloremloremloremloremloremloremloremloremloremloremloremloremloremloremloremloremloremloremloremloremloremloremloremloremloremloremloremloremloremloremloremloremloremloremloremloremloremloremloremloremloremloremloremloremloremloremloremloremloremloremloremloremloremloremloremloremloremloremloremloremloremloremloremloremloremloremloremloremloremloremloremloremloremloremloremloremloremloremloremloremloremloremloremloremloremloremloremloremloremloremloremloremloremloremloremloremloremloremloremloremloremloremloremloremloremloremloremloremloremloremloremloremloremloremloremloremloremloremloremloremloremloremloremloremloremloremloremloremloremloremloremloremloremloremloremloremloremloremloremloremloremloremloremloremloremloremloremloremloremloremloremloremloremloremloremloremloremloremloremloremloremloremloremloremloremloremloremloremloremloremloremloremloremloremloremloremloremloremloremloremloremloremloremloremloremloremloremloremloremloremloremloremloremloremloremloremloremloremloremloremloremloremloremloremloremloremloremloremloremloremloremloremloremloremloremloremloremloremloremloremloremloremloremloremloremloremloremloremloremloremloremloremloremloremloremloremloremloremloremloremloremloremloremloremloremloremloremloremloremloremloremloremloremloremloremloremloremloremloremloremloremloremloremloremloremloremloremloremloremloremloremloremloremloremloremloremloremloremloremloremloremloremloremloremloremloremloremloremloremloremloremloremloremloremloremloremloremloremloremloremloremloremloremloremloremloremloremloremloremloremloremloremloremloremloremloremloremloremloremloremloremloremloremloremloremloremloremloremloremloremloremloremloremloremloremloremloremloremloremloremloremloremloremloremloremloremloremloremloremloremloremloremloremloremloremloremloremloremloremloremloremloremloremloremloremloremloremloremloremloremloremloremloremloremloremloremloremloremloremloremloremloremloremloremloremloremloremloremloremloremloremloremloremloremloremloremloremloremloremloremloremloremloremloremloremloremloremloremloremloremloremloremloremloremloremloremloremloremloremloremloremloremloremloremloremloremloremloremloremloremloremloremloremloremloremloremloremloremloremloremloremloremloremloremloremloremloremloremloremloremloremloremloremloremloremloremloremloremloremloremloremloremloremloremloremloremloremloremloremloremloremloremloremloremloremloremloremloremloremloremloremloremloremloremloremloremloremloremloremloremloremloremloremloremloremloremloremloremloremloremloremloremloremloremloremloremloremloremloremloremloremloremloremloremloremloremloremloremloremloremloremloremloremloremloremloremloremloremloremloremloremloremloremloremloremloremloremloremloremloremloremloremloremloremloremloremloremloremloremloremloremloremloremloremloremloremloremloremloremloremloremloremloremloremloremloremloremloremloremloremloremloremloremloremloremloremloremloremloremloremloremloremloremloremloremloremloremloremloremloremloremloremloremloremloremloremloremloremloremloremloremloremloremloremloremloremloremloremloremloremloremloremloremloremloremloremloremloremloremloremloremloremloremloremloremloremloremloremloremloremloremloremloremloremloremloremloremloremloremloremloremloremloremloremloremloremloremloremloremloremloremloremloremloremloremloremloremloremloremloremloremloremloremloremloremloremloremloremloremloremloremloremloremloremloremloremloremloremloremloremloremloremloremloremloremloremloremloremloremloremloremloremloremloremloremloremloremloremloremloremloremloremloremloremloremloremloremloremloremloremloremloremloremloremloremloremloremloremloremloremloremloremloremloremloremloremloremloremloremloremloremloremloremloremloremloremloremloremloremloremloremloremloremloremloremloremloremloremloremloremloremloremloremloremloremloremloremloremloremloremloremloremloremloremloremloremloremloremloremloremloremloremloremloremloremloremloremloremloremloremloremloremloremloremloremloremloremloremloremloremloremloremloremloremloremloremloremloremloremloremloremloremloremloremloremloremloremloremloremloremloremloremloremloremloremloremloremloremloremloremloremloremloremloremloremloremloremloremloremloremloremloremloremloremloremloremloremloremloremloremloremloremloremloremloremloremloremloremloremloremloremloremloremloremloremloremloremloremloremloremloremloremloremloremloremloremloremloremloremloremloremloremloremloremloremloremloremloremloremloremloremloremloremloremloremloremloremloremloremloremloremloremloremloremloremloremloremloremloremloremloremloremloremloremloremloremloremloremloremloremloremloremloremloremloremloremloremloremloremloremloremloremloremloremloremloremloremloremloremloremloremloremloremloremloremloremloremloremloremloremloremloremloremloremloremloremloremloremloremloremloremloremloremloremloremloremloremloremloremloremloremloremloremloremloremloremloremloremloremloremloremloremloremloremloremloremloremloremloremloremloremloremloremloremloremloremloremloremloremloremloremloremloremloremloremloremloremloremloremloremloremloremloremloremloremloremloremloremloremloremloremloremloremloremloremloremloremloremloremloremloremloremloremloremloremloremloremloremloremloremloremloremloremloremloremloremloremloremloremloremloremloremloremloremloremloremloremloremloremloremloremloremloremloremloremloremloremloremloremloremloremloremloremloremloremloremloremloremloremloremloremloremloremloremloremloremloremloremloremloremloremloremloremloremloremloremloremloremloremloremloremloremloremloremloremloremloremloremloremloremloremloremloremloremloremloremloremloremloremloremloremloremloremloremloremloremloremloremloremloremloremloremloremloremloremloremloremloremloremloremloremloremloremloremloremloremloremloremloremloremloremloremloremloremloremloremloremloremloremloremloremloremloremloremloremloremloremloremloremloremloremloremloremloremloremloremloremloremloremloremloremloremloremloremloremloremloremloremloremloremloremloremloremloremloremloremloremloremloremloremloremloremloremloremloremloremloremloremloremloremloremloremloremloremloremloremloremloremloremloremloremloremloremloremloremloremloremloremloremloremloremloremloremloremloremloremloremloremloremloremloremloremloremloremloremloremloremloremloremloremloremloremloremloremloremloremloremloremloremloremloremloremloremloremloremloremloremloremloremloremloremloremloremloremloremloremloremloremloremloremloremloremloremloremloremloremloremloremloremloremloremloremloremloremloremloremloremloremloremloremloremloremloremloremloremloremloremloremloremloremloremloremloremloremloremloremloremloremloremloremlorem\")\n",
        " f.close()\n",
        "except FileExistsError:\n",
        "    print(f\"Error: El archivo {name_file} ya existe.\")\n",
        "\n"
      ],
      "metadata": {
        "colab": {
          "base_uri": "https://localhost:8080/"
        },
        "id": "60wHyIbSdkEw",
        "outputId": "01d8824b-3b00-437e-8261-8bb211a6c235"
      },
      "execution_count": null,
      "outputs": [
        {
          "output_type": "stream",
          "name": "stdout",
          "text": [
            "Error: El archivo test.txt ya existe.\n"
          ]
        }
      ]
    },
    {
      "cell_type": "markdown",
      "source": [
        "Creamos el archivo que contara caracteres en C++\n",
        "\n",
        "\n"
      ],
      "metadata": {
        "id": "5YLCMvBPq1u2"
      }
    },
    {
      "cell_type": "code",
      "execution_count": null,
      "metadata": {
        "colab": {
          "base_uri": "https://localhost:8080/"
        },
        "id": "Qpl05vD8lvo0",
        "outputId": "977e13d9-1579-4fef-d610-db57c3918871"
      },
      "outputs": [
        {
          "output_type": "stream",
          "name": "stdout",
          "text": [
            "Overwriting counterCharacter.cpp\n"
          ]
        }
      ],
      "source": [
        "%%writefile counterCharacter.cpp\n",
        "#include <iostream>\n",
        "#include <list>\n",
        "#include <thread>\n",
        "#include <chrono>\n",
        "#include <vector>\n",
        "#include <fstream>\n",
        "\n",
        "using namespace std;\n",
        "\n",
        "string pathFile;\n",
        "int numbOfThreads;\n",
        "vector<string> lines;\n",
        "vector<int> rpList;\n",
        "\n",
        "int validarParametros(int numArguementos, char *argumentos[]);\n",
        "int countLinesOfFile();\n",
        "list<thread> createThreads(int nLines, int nThreads);\n",
        "void readLinesFile(int lineIni, int lineFin, int nHilo);\n",
        "\n",
        "int main(int argc, char *argv[])\n",
        "{\n",
        "    int nLines = 0;\n",
        "    int rt = 0;\n",
        "    if (!validarParametros(argc, argv))\n",
        "        return -1;\n",
        "\n",
        "    auto ini = std::chrono::system_clock::now();\n",
        "    rpList.resize(numbOfThreads, 0);\n",
        "    nLines = countLinesOfFile();\n",
        "    if (nLines < 1)\n",
        "        return -2;\n",
        "    list<thread> listThreads = createThreads(nLines, nLines < numbOfThreads ? nLines : numbOfThreads);\n",
        "    for (auto &hilito : listThreads)\n",
        "    {\n",
        "        hilito.join();\n",
        "    }\n",
        "    auto fin = std::chrono::system_clock::now();\n",
        "    for (int i = 0; i < numbOfThreads; i++)\n",
        "    {\n",
        "        rt += rpList[i];\n",
        "    }\n",
        "    std::chrono::duration<float, std::milli> duration = fin - ini;\n",
        "    cout << \"Duracion de procesamiento en milisegundos\" << endl;\n",
        "    cout << duration.count() << endl;\n",
        "    cout << \"Numero final de caracteres\" << endl;\n",
        "    cout << rt << endl;\n",
        "    return 0;\n",
        "}\n",
        "\n",
        "int validarParametros(int numArguementos, char *argumentos[])\n",
        "{\n",
        "\n",
        "    if (numArguementos != 3)\n",
        "    {\n",
        "        cout << \"Error de parametros\" << endl;\n",
        "        return 0;\n",
        "    }\n",
        "    else\n",
        "    {\n",
        "        pathFile = argumentos[1];\n",
        "        numbOfThreads = atoi(argumentos[2]);\n",
        "        if (numbOfThreads < 0)\n",
        "        {\n",
        "            cout << \"La cantidad de hilos debe ser mayor a 0\" << endl;\n",
        "            return 0;\n",
        "        }\n",
        "    }\n",
        "    return 1;\n",
        "}\n",
        "\n",
        "int countLinesOfFile()\n",
        "{\n",
        "\n",
        "    string line;\n",
        "    int numbersOfLine = 0;\n",
        "\n",
        "    std::ifstream inputFile(pathFile);\n",
        "    if (!inputFile)\n",
        "    {\n",
        "        cout << \"Error al abrir el archivo.\" << endl;\n",
        "        return -2;\n",
        "    }\n",
        "    while (std::getline(inputFile, line))\n",
        "    {\n",
        "        lines.push_back(line);\n",
        "        numbersOfLine++;\n",
        "    }\n",
        "    inputFile.close();\n",
        "    return numbersOfLine;\n",
        "}\n",
        "\n",
        "list<thread> createThreads(int nLines, int nThreads)\n",
        "{\n",
        "    list<thread> listThreads;\n",
        "    int linesForThread = nLines / nThreads;\n",
        "    int iniLine;\n",
        "    int endLine;\n",
        "    for (int i = 0; i < nThreads; i++)\n",
        "    {\n",
        "        iniLine = i * linesForThread;\n",
        "        endLine = (i == nThreads - 1) ? nLines : iniLine + linesForThread;\n",
        "        listThreads.push_back(std::thread(readLinesFile, iniLine, endLine, i));\n",
        "    }\n",
        "    return listThreads;\n",
        "}\n",
        "\n",
        "void readLinesFile(int lineIni, int lineFin, int nHilo)\n",
        "{\n",
        "    int i;\n",
        "    string line;\n",
        "    int rp = 0;\n",
        "    for (i = lineIni; i < lineFin; i++)\n",
        "    {\n",
        "        line = lines[i];\n",
        "        rp += line.length();\n",
        "    }\n",
        "    rpList[nHilo] = rp;\n",
        "}"
      ]
    },
    {
      "cell_type": "markdown",
      "source": [
        "Compilamos el .cpp con g++ creando el ejecutable"
      ],
      "metadata": {
        "id": "KF8EC1XygTeS"
      }
    },
    {
      "cell_type": "code",
      "source": [
        "!g++ -o coutnerCharacterCpp counterCharacter.cpp"
      ],
      "metadata": {
        "id": "LUrKULodmTiR"
      },
      "execution_count": null,
      "outputs": []
    },
    {
      "cell_type": "markdown",
      "source": [
        "Ejecutamos el programa en c++ para contar caracteres con diferentes cantidad de hilos"
      ],
      "metadata": {
        "id": "MzDGkVANgaGJ"
      }
    },
    {
      "cell_type": "code",
      "source": [
        "!./coutnerCharacterCpp test.txt 1"
      ],
      "metadata": {
        "colab": {
          "base_uri": "https://localhost:8080/"
        },
        "id": "XEkIsdZahHlb",
        "outputId": "0daa866b-7c17-4a81-9860-4ec3c7794df4"
      },
      "execution_count": null,
      "outputs": [
        {
          "output_type": "stream",
          "name": "stdout",
          "text": [
            "Duracion de procesamiento en milisegundos\n",
            "12.6627\n",
            "Numero final de caracteres\n",
            "9654390\n"
          ]
        }
      ]
    },
    {
      "cell_type": "code",
      "source": [
        "!./coutnerCharacterCpp test.txt 308"
      ],
      "metadata": {
        "colab": {
          "base_uri": "https://localhost:8080/"
        },
        "id": "gRNhmaunhIcB",
        "outputId": "93975f2d-2cdb-4e0a-d8cb-8b8b8135ee30"
      },
      "execution_count": null,
      "outputs": [
        {
          "output_type": "stream",
          "name": "stdout",
          "text": [
            "Duracion de procesamiento en milisegundos\n",
            "31.0986\n",
            "Numero final de caracteres\n",
            "9654390\n"
          ]
        }
      ]
    },
    {
      "cell_type": "code",
      "source": [
        "!./coutnerCharacterCpp test.txt 616"
      ],
      "metadata": {
        "colab": {
          "base_uri": "https://localhost:8080/"
        },
        "id": "-zuErERKmlXc",
        "outputId": "250cd462-b0d7-4bf5-be55-1f3e663239ac"
      },
      "execution_count": null,
      "outputs": [
        {
          "output_type": "stream",
          "name": "stdout",
          "text": [
            "Duracion de procesamiento en milisegundos\n",
            "60.9088\n",
            "Numero final de caracteres\n",
            "9654390\n"
          ]
        }
      ]
    },
    {
      "cell_type": "code",
      "source": [
        "!./coutnerCharacterCpp test.txt 924"
      ],
      "metadata": {
        "colab": {
          "base_uri": "https://localhost:8080/"
        },
        "id": "ySZ5cUBlhK57",
        "outputId": "3aee4043-1ecb-4f4b-818d-05efd20c9707"
      },
      "execution_count": null,
      "outputs": [
        {
          "output_type": "stream",
          "name": "stdout",
          "text": [
            "Duracion de procesamiento en milisegundos\n",
            "98.1029\n",
            "Numero final de caracteres\n",
            "9654390\n"
          ]
        }
      ]
    },
    {
      "cell_type": "code",
      "source": [
        "!./coutnerCharacterCpp test.txt 1233"
      ],
      "metadata": {
        "colab": {
          "base_uri": "https://localhost:8080/"
        },
        "id": "y3i7lDZ7hMWJ",
        "outputId": "6c30540e-cfed-4ed4-a160-3455ebaae2ea"
      },
      "execution_count": null,
      "outputs": [
        {
          "output_type": "stream",
          "name": "stdout",
          "text": [
            "Duracion de procesamiento en milisegundos\n",
            "111.187\n",
            "Numero final de caracteres\n",
            "9654390\n"
          ]
        }
      ]
    },
    {
      "cell_type": "markdown",
      "source": [
        "Creamos el archivo que contara caracteres en Python"
      ],
      "metadata": {
        "id": "nc8W7n1qjmbm"
      }
    },
    {
      "cell_type": "code",
      "source": [
        "%%writefile counterCharacter.py\n",
        "import sys\n",
        "import threading\n",
        "import time\n",
        "\n",
        "\n",
        "class CharacterCounter:\n",
        "    def __init__(self, lines):\n",
        "        self.lines = lines\n",
        "        self.rp = 0\n",
        "\n",
        "    def count_characters(self):\n",
        "        for line in self.lines:\n",
        "            self.rp += len(line)\n",
        "\n",
        "    def get_count(self):\n",
        "        return self.rp\n",
        "\n",
        "\n",
        "def validate_args():\n",
        "    if len(sys.argv) != 3:\n",
        "        return (None, None)\n",
        "\n",
        "    return sys.argv[1], int(sys.argv[2])\n",
        "\n",
        "\n",
        "def read_file(file_path):\n",
        "    with open(file_path, 'r') as file:\n",
        "        return file.read()\n",
        "\n",
        "\n",
        "def main():\n",
        "    file_path, nof_threads = validate_args()\n",
        "    if not file_path:\n",
        "        print(\"\"\"Por favor provea dos argumentos:\n",
        "                - El nombre del archivo a procesar\n",
        "                - La cantidad de hilos\"\"\")\n",
        "        return\n",
        "\n",
        "    print(f\"Procesando archivo {file_path} con {nof_threads} hilos\")\n",
        "\n",
        "    lines = read_file(file_path).split('\\n')\n",
        "    nof_threads = min(nof_threads, len(lines))\n",
        "    lines_per_thread = len(lines) // nof_threads\n",
        "    rt = 0\n",
        "\n",
        "    threads = []\n",
        "    counters = []\n",
        "    for i in range(nof_threads):\n",
        "        start = i * lines_per_thread\n",
        "        end = start + lines_per_thread\n",
        "        if i == nof_threads - 1:\n",
        "            end = len(lines)\n",
        "        counter = CharacterCounter(lines[start:end])\n",
        "        thread = threading.Thread(target=counter.count_characters)\n",
        "        threads.append(thread)\n",
        "        counters.append(counter)\n",
        "        thread.start()\n",
        "\n",
        "    for thread in threads:\n",
        "        thread.join()\n",
        "\n",
        "    for counter in counters:\n",
        "        rt += counter.get_count()\n",
        "\n",
        "    print(f\"El archivo {file_path} tiene {rt} caracteres\")\n",
        "\n",
        "\n",
        "if __name__ == \"__main__\":\n",
        "    start_time = time.time()\n",
        "    main()\n",
        "    print(\n",
        "        f\"Tiempo de ejecución: {(time.time() - start_time)*1000} milisegundos\")"
      ],
      "metadata": {
        "colab": {
          "base_uri": "https://localhost:8080/"
        },
        "id": "QNBFwjZUnRxR",
        "outputId": "9fe94c4b-8372-43ab-80c5-c3a20dae7ee0"
      },
      "execution_count": null,
      "outputs": [
        {
          "output_type": "stream",
          "name": "stdout",
          "text": [
            "Writing counterCharacter.py\n"
          ]
        }
      ]
    },
    {
      "cell_type": "markdown",
      "source": [
        "Ejecutamos el programa en Python para contar caracteres con diferentes cantidad de hilos"
      ],
      "metadata": {
        "id": "DQd4MmIQjwT0"
      }
    },
    {
      "cell_type": "code",
      "source": [
        "!python counterCharacter.py test.txt 1"
      ],
      "metadata": {
        "colab": {
          "base_uri": "https://localhost:8080/"
        },
        "id": "RMqe8TMtj28o",
        "outputId": "f43bd3dd-1518-4e03-95c0-b31e4220ede1"
      },
      "execution_count": null,
      "outputs": [
        {
          "output_type": "stream",
          "name": "stdout",
          "text": [
            "Procesando archivo test.txt con 1 hilos\n",
            "El archivo test.txt tiene 9654390 caracteres\n",
            "Tiempo de ejecución: 33.06317329406738 milisegundos\n"
          ]
        }
      ]
    },
    {
      "cell_type": "code",
      "source": [
        "!python counterCharacter.py test.txt 308"
      ],
      "metadata": {
        "colab": {
          "base_uri": "https://localhost:8080/"
        },
        "id": "FfacFZ8ej2yI",
        "outputId": "77653f27-0883-4393-8810-dfc87b8aa72a"
      },
      "execution_count": null,
      "outputs": [
        {
          "output_type": "stream",
          "name": "stdout",
          "text": [
            "Procesando archivo test.txt con 308 hilos\n",
            "El archivo test.txt tiene 9654390 caracteres\n",
            "Tiempo de ejecución: 66.82300567626953 milisegundos\n"
          ]
        }
      ]
    },
    {
      "cell_type": "code",
      "source": [
        "!python counterCharacter.py test.txt 616"
      ],
      "metadata": {
        "colab": {
          "base_uri": "https://localhost:8080/"
        },
        "id": "1p-6rvDCj2pX",
        "outputId": "708d33c8-abd5-4514-9929-8527df9a7573"
      },
      "execution_count": null,
      "outputs": [
        {
          "output_type": "stream",
          "name": "stdout",
          "text": [
            "Procesando archivo test.txt con 616 hilos\n",
            "El archivo test.txt tiene 9654390 caracteres\n",
            "Tiempo de ejecución: 106.57382011413574 milisegundos\n"
          ]
        }
      ]
    },
    {
      "cell_type": "code",
      "source": [
        "!python counterCharacter.py test.txt 924"
      ],
      "metadata": {
        "colab": {
          "base_uri": "https://localhost:8080/"
        },
        "id": "d82sD9QVj2c-",
        "outputId": "546d5f21-195b-4172-e035-b9bb3f8d19e0"
      },
      "execution_count": null,
      "outputs": [
        {
          "output_type": "stream",
          "name": "stdout",
          "text": [
            "Procesando archivo test.txt con 924 hilos\n",
            "El archivo test.txt tiene 9654390 caracteres\n",
            "Tiempo de ejecución: 133.69083404541016 milisegundos\n"
          ]
        }
      ]
    },
    {
      "cell_type": "code",
      "source": [
        "!python counterCharacter.py test.txt 1233"
      ],
      "metadata": {
        "colab": {
          "base_uri": "https://localhost:8080/"
        },
        "id": "EZuGVOAsncon",
        "outputId": "12cb7c45-5913-4282-d10f-7019a3e04b92"
      },
      "execution_count": null,
      "outputs": [
        {
          "output_type": "stream",
          "name": "stdout",
          "text": [
            "Procesando archivo test.txt con 1233 hilos\n",
            "El archivo test.txt tiene 9654390 caracteres\n",
            "Tiempo de ejecución: 176.20587348937988 milisegundos\n"
          ]
        }
      ]
    },
    {
      "cell_type": "markdown",
      "source": [
        "Creamos una clase de java que usaremos para nuestro contador de caracteres"
      ],
      "metadata": {
        "id": "pnG7cygHkAjJ"
      }
    },
    {
      "cell_type": "code",
      "source": [
        "%%writefile CharacterCounter.java\n",
        "import java.util.List;\n",
        "\n",
        "public class CharacterCounter implements Runnable {\n",
        "\tprivate static final int TIME_SLEEP = 1000;\n",
        "\tprivate List<String> lines;\n",
        "\tprivate int rp;\n",
        "\tprivate int start;\n",
        "\tprivate int end;\n",
        "\n",
        "\tpublic CharacterCounter(List<String> lines, int start, int end) {\n",
        "\t\tthis.rp = 0;\n",
        "\t\tthis.lines = lines;\n",
        "\t\tthis.start = start;\n",
        "\t\tthis.end = end;\n",
        "\t}\n",
        "\n",
        "\tpublic int getRp(){\n",
        "\t\treturn this.rp;\n",
        "\t}\n",
        "\n",
        "\tpublic void count_characters() {\n",
        "\t\tint count = 0;\n",
        "\t\tString line = \"\";\n",
        "\n",
        "\t\tfor (int i = this.start; i < this.end; i++){\t// Itero lineas\n",
        "\t\t\tline = this.lines.get(i);\n",
        "\t\t\tfor (int j = 0; j < line.length(); j++){\t\t// Itero caracteres de la linea\n",
        "\t\t\t\tcount++;\n",
        "\t\t\t}\n",
        "\t\t}\n",
        "\t\ttry{\n",
        "\t\t\tThread.sleep(TIME_SLEEP);\n",
        "\t\t} catch(InterruptedException e){\n",
        "\t\t\te.printStackTrace();\n",
        "\t\t}\n",
        "\n",
        "\t\tthis.rp = count;\n",
        "\t}\n",
        "\n",
        "\t@Override\n",
        "\tpublic void run(){\n",
        "\t\tcount_characters();\n",
        "\n",
        "\t}\n",
        "}"
      ],
      "metadata": {
        "colab": {
          "base_uri": "https://localhost:8080/"
        },
        "id": "3n_oiPR-obtG",
        "outputId": "50a3dbe5-d30a-4124-eeb8-d5e99fb1ea7f"
      },
      "execution_count": null,
      "outputs": [
        {
          "output_type": "stream",
          "name": "stdout",
          "text": [
            "Writing CharacterCounter.java\n"
          ]
        }
      ]
    },
    {
      "cell_type": "code",
      "source": [
        "Creamos el archivo que contara caracteres en Java"
      ],
      "metadata": {
        "id": "QM6MAW_IkGCJ"
      },
      "execution_count": null,
      "outputs": []
    },
    {
      "cell_type": "code",
      "source": [
        "%%writefile Main.java\n",
        "import java.util.List;\n",
        "import java.util.ArrayList;\n",
        "import java.util.Scanner;\n",
        "import java.io.File;\n",
        "\n",
        "// hay que compilar javac CharacterCounter.java\n",
        "\n",
        "public class Main {\n",
        "\n",
        "\n",
        "\tpublic static void main(String[] args) {\n",
        "        /// Valido los parametros\n",
        "        if (!validate_parameters(args)) {\n",
        "            return;\n",
        "        }\n",
        "        /// asigno variables\n",
        "\t\tint total_threads = Integer.parseInt(args[1]);\n",
        "        String file_path = args[0];\n",
        "\n",
        "        /// Leo el archivo de entrada y relleno las lineas\n",
        "        List<String> lines = new ArrayList<>();\n",
        "        read_file(file_path, lines);\n",
        "\n",
        "        /// Ejecucion del conteo y toma de tiempo\n",
        "        long t1 = System.currentTimeMillis();\n",
        "        int rt = execute_counter(lines, total_threads);\n",
        "        long t2 = System.currentTimeMillis();\n",
        "\n",
        "        long tt = (t2 - t1);\n",
        "\n",
        "        System.out.println(\"Total: \" + rt + \" calculado en: \" + tt + \"ms\");\n",
        "\t}\n",
        "    public static boolean validate_parameters(String[] parameters) {\n",
        "        if (parameters.length > 2 || parameters.length < 1){\n",
        "            System.out.println(\"Cantidad de parametros incorrecto.\");\n",
        "            return false;\n",
        "        }\n",
        "        File file = new File(parameters[0]);\n",
        "        if (!file.exists() || !file.isFile()){\n",
        "            System.out.println(\"El primer parametro debe ser un archivo.\");\n",
        "            return false;\n",
        "        }\n",
        "        int total_threads;\n",
        "        try{\n",
        "            total_threads = Integer.parseInt(parameters[1]);\n",
        "        } catch (NumberFormatException e) {\n",
        "            System.out.println(\"El 2do parametro tiene que ser un numero.\");\n",
        "            return false;\n",
        "        }\n",
        "        if (total_threads < 1) {\n",
        "\t\t\tSystem.out.println(\"La cantidad de threads tiene que ser igual o mayor a 1.\");\n",
        "\t\t\treturn false;\n",
        "\t\t}\n",
        "\n",
        "        return true;\n",
        "    }\n",
        "\n",
        "\tprivate static void read_file(String name, List<String> lines) {\n",
        "\t\tFile fp = null;\n",
        "\t\tScanner sc = null;\n",
        "        String line = \"\";\n",
        "\n",
        "\t\ttry{\n",
        "\t\t\tfp = new File(name);\n",
        "\t\t\tsc = new Scanner(fp);\n",
        "\n",
        "\t\t\twhile (sc.hasNextLine()) {\n",
        "\t\t\t\tline = sc.nextLine();\n",
        "                if(!line.trim().isEmpty()) {\n",
        "                    lines.add(line);\n",
        "                }\n",
        "\n",
        "\t\t\t}\n",
        "\t\t} catch( Exception e){\n",
        "\t\t\te.printStackTrace();\n",
        "\t\t} finally {\n",
        "\t\t\tsc.close();\n",
        "\t\t}\n",
        "\t}\n",
        "    private static int execute_counter(List<String> lines, int total_threads){\n",
        "\n",
        "        int total_lines = lines.size();\n",
        "\n",
        "        if (total_threads > total_lines) {   // Si la cantidad de hilos es mayor que la cantidad de lineas del archivo, entonces limito los hilos a la cantidad de lineas\n",
        "            total_threads = total_lines;\n",
        "        }\n",
        "\n",
        "\t\tThread[] threads = new Thread[total_threads];\n",
        "\t\tCharacterCounter[] counters = new CharacterCounter[total_threads];\n",
        "\n",
        "\t\tint lines_per_thread = (total_lines/total_threads);\n",
        "        int start = 0;\n",
        "        int end = 0;\n",
        "\t\tfor (int i = 0; i < total_threads; i++ ) {\n",
        "\t\t\tstart = i * lines_per_thread;\n",
        "            end = (i == total_threads -1)? total_lines : start + lines_per_thread;\n",
        "            counters[i] = new CharacterCounter(lines, start, end);\n",
        "            threads[i] = new Thread(counters[i]);\n",
        "            threads[i].start();\n",
        "            //System.out.println(\"Hilo: \" + i + \" ejecutando: \" + start + \" hasta \" + end);\n",
        "\t\t}\n",
        "\n",
        "        /// Libero recursos de los hilos\n",
        "        try{\n",
        "            for (int i = 0; i < total_threads; i++) {\n",
        "                threads[i].join();\n",
        "            }\n",
        "        } catch (InterruptedException e) {\n",
        "            e.printStackTrace();\n",
        "        }\n",
        "\n",
        "        /// Conteo final\n",
        "        int rt = 0;\n",
        "        for (CharacterCounter counter : counters) {\n",
        "            rt += counter.getRp();\n",
        "        }\n",
        "\n",
        "\n",
        "        return rt;\n",
        "    }\n",
        "}"
      ],
      "metadata": {
        "colab": {
          "base_uri": "https://localhost:8080/"
        },
        "id": "UbtrFUY_om2x",
        "outputId": "44e3d6f6-6c3f-4d00-eaae-69ca5028a983"
      },
      "execution_count": null,
      "outputs": [
        {
          "output_type": "stream",
          "name": "stdout",
          "text": [
            "Overwriting Main.java\n"
          ]
        }
      ]
    },
    {
      "cell_type": "markdown",
      "source": [
        "Compilamos primero nuestra clase auxiliar"
      ],
      "metadata": {
        "id": "MGgb9AmdkpeP"
      }
    },
    {
      "cell_type": "code",
      "source": [
        "!javac CharacterCounter.java"
      ],
      "metadata": {
        "id": "7MI28KYpouoH"
      },
      "execution_count": null,
      "outputs": []
    },
    {
      "cell_type": "markdown",
      "source": [
        "Ejecutamos el programa en Java para contar caracteres con diferentes cantidad de hilos"
      ],
      "metadata": {
        "id": "hd68WNGkkrVR"
      }
    },
    {
      "cell_type": "code",
      "source": [
        "!java Main.java test.txt 1"
      ],
      "metadata": {
        "colab": {
          "base_uri": "https://localhost:8080/"
        },
        "id": "HHLs-Tdmo09Q",
        "outputId": "268b0db3-1c1b-461f-ba56-7c0dfbad7443"
      },
      "execution_count": null,
      "outputs": [
        {
          "output_type": "stream",
          "name": "stdout",
          "text": [
            "Total: 9654390 calculado en: 1024ms\n"
          ]
        }
      ]
    },
    {
      "cell_type": "code",
      "source": [
        "!java Main.java test.txt 308"
      ],
      "metadata": {
        "colab": {
          "base_uri": "https://localhost:8080/"
        },
        "id": "aFob0GAjkaS1",
        "outputId": "f5fabd0a-fceb-47d5-d58d-79ab51fd396f"
      },
      "execution_count": null,
      "outputs": [
        {
          "output_type": "stream",
          "name": "stdout",
          "text": [
            "Total: 9654390 calculado en: 1064ms\n"
          ]
        }
      ]
    },
    {
      "cell_type": "code",
      "source": [
        "!java Main.java test.txt 616"
      ],
      "metadata": {
        "colab": {
          "base_uri": "https://localhost:8080/"
        },
        "id": "9LV9A_GokaLd",
        "outputId": "c0078d0b-2a13-498f-e44f-1947fbf623c6"
      },
      "execution_count": null,
      "outputs": [
        {
          "output_type": "stream",
          "name": "stdout",
          "text": [
            "Total: 9654390 calculado en: 1182ms\n"
          ]
        }
      ]
    },
    {
      "cell_type": "code",
      "source": [
        "!java Main.java test.txt 924"
      ],
      "metadata": {
        "colab": {
          "base_uri": "https://localhost:8080/"
        },
        "id": "G8XLihI-kaFz",
        "outputId": "943eb9bd-b406-484e-8c07-584d1c56f70a"
      },
      "execution_count": null,
      "outputs": [
        {
          "output_type": "stream",
          "name": "stdout",
          "text": [
            "Total: 9654390 calculado en: 1172ms\n"
          ]
        }
      ]
    },
    {
      "cell_type": "code",
      "source": [
        "!java Main.java test.txt 1233"
      ],
      "metadata": {
        "colab": {
          "base_uri": "https://localhost:8080/"
        },
        "id": "bPmZKcvRkZ-l",
        "outputId": "feafd1c9-2e0a-4ad4-cb34-3e5fc5cb2135"
      },
      "execution_count": null,
      "outputs": [
        {
          "output_type": "stream",
          "name": "stdout",
          "text": [
            "Total: 9654390 calculado en: 1221ms\n"
          ]
        }
      ]
    }
  ]
}