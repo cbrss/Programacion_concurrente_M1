{
  "cells": [
    {
      "cell_type": "markdown",
      "metadata": {
        "id": "view-in-github",
        "colab_type": "text"
      },
      "source": [
        "<a href=\"https://colab.research.google.com/github/cbrss/Programacion_concurrente_M1/blob/main/PC_TP_1.ipynb\" target=\"_parent\"><img src=\"https://colab.research.google.com/assets/colab-badge.svg\" alt=\"Open In Colab\"/></a>"
      ]
    },
    {
      "cell_type": "markdown",
      "metadata": {
        "id": "xJ9ciKbyt4qw"
      },
      "source": [
        "# Codigo en: **C**"
      ]
    },
    {
      "cell_type": "code",
      "execution_count": 58,
      "metadata": {
        "id": "OsHOnv-Hm-bQ",
        "outputId": "34819af9-63b9-4019-9455-a94f4b491b99",
        "colab": {
          "base_uri": "https://localhost:8080/"
        }
      },
      "outputs": [
        {
          "output_type": "stream",
          "name": "stdout",
          "text": [
            "Writing fork_tree.c\n"
          ]
        }
      ],
      "source": [
        "%%writefile fork_tree.c\n",
        "\n",
        "#include <stdlib.h>\n",
        "#include <stdio.h>\n",
        "#include <unistd.h>\n",
        "#include <sys/wait.h>\n",
        "\n",
        "#include <string.h>\n",
        "#include <linux/prctl.h>\n",
        "#include <sys/prctl.h>\n",
        "\n",
        "#define EXIT_SUCCESS 0\n",
        "#define TIMETOSLEEP 30\n",
        "\n",
        "void errorChild(char* nameChild);\n",
        "void changeName(char* name);\n",
        "void sleepAndWait(int cantWaits);\n",
        "\n",
        "int main()\n",
        "{\n",
        "    int i;\n",
        "    pid_t pid = fork();\n",
        "\n",
        "\n",
        "    if(pid<0)\n",
        "    {\n",
        "        errorChild(\"B\");\n",
        "        return EXIT_FAILURE;\n",
        "    }\n",
        "    if(pid)//A\n",
        "    {\n",
        "        changeName(\"A\");\n",
        "        sleepAndWait(1);\n",
        "        return EXIT_SUCCESS;\n",
        "    }\n",
        "    //B\n",
        "    changeName(\"B\");\n",
        "    pid=fork();\n",
        "    if(pid<0)\n",
        "    {\n",
        "        errorChild(\"C\");\n",
        "        return EXIT_FAILURE;\n",
        "    }\n",
        "    if(!pid) //C\n",
        "    {\n",
        "        changeName(\"C\");\n",
        "        pid=fork();\n",
        "        if(pid<0)\n",
        "        {\n",
        "            errorChild(\"E\");\n",
        "            return EXIT_FAILURE;\n",
        "        }\n",
        "        if(pid) //C\n",
        "        {\n",
        "            sleepAndWait(1);\n",
        "            return EXIT_SUCCESS;\n",
        "        }\n",
        "        //E\n",
        "        changeName(\"E\");\n",
        "        for(i=0; i<2; i++) //H - I\n",
        "        {\n",
        "            pid=fork();\n",
        "            if(pid<0)\n",
        "            {\n",
        "                errorChild(i==0?\"H\":\"I\");\n",
        "                return EXIT_FAILURE;\n",
        "            }\n",
        "            if(!pid)\n",
        "            {\n",
        "                changeName(i==0?\"H\":\"I\");\n",
        "                sleepAndWait(0);\n",
        "                return EXIT_SUCCESS;\n",
        "            }\n",
        "        }\n",
        "        sleepAndWait(2);\n",
        "        return EXIT_SUCCESS;\n",
        "    }\n",
        "\n",
        "    //sigue B PARA D\n",
        "    pid=fork();\n",
        "    if(pid<0)\n",
        "    {\n",
        "        errorChild(\"D\");\n",
        "        return EXIT_FAILURE;\n",
        "    }\n",
        "    if(!pid) // D\n",
        "    {\n",
        "        changeName(\"D\");\n",
        "        for(i=0; i<2; i++) //F - G\n",
        "        {\n",
        "            pid=fork();\n",
        "            if(pid<0)\n",
        "            {\n",
        "                errorChild(i==0?\"F\":\"G\");\n",
        "                return EXIT_FAILURE;\n",
        "            }\n",
        "            if(!pid)\n",
        "            {\n",
        "                changeName(i==0?\"F\":\"G\");\n",
        "                sleepAndWait(0);\n",
        "                return EXIT_SUCCESS;\n",
        "            }\n",
        "        }\n",
        "        sleepAndWait(2);\n",
        "        return EXIT_SUCCESS;\n",
        "    }\n",
        "    //sigue B\n",
        "    sleepAndWait(2);\n",
        "    return EXIT_SUCCESS;\n",
        "}\n",
        "\n",
        "void errorChild(char* nameChild)\n",
        "{\n",
        "  printf(\"Error de creación de %s\\n\",nameChild);\n",
        "}\n",
        "\n",
        "void changeName(char* name)\n",
        "{\n",
        "  char auxCad[16]=\"NameDefault\";\n",
        "  prctl(PR_SET_NAME, strcpy(auxCad,name),NULL,NULL,NULL);\n",
        "}\n",
        "\n",
        "void sleepAndWait(int cantWaits)\n",
        "{\n",
        "  int i;\n",
        "  sleep(TIMETOSLEEP);\n",
        "  for(i=0;i<cantWaits;i++)\n",
        "    wait(NULL);\n",
        "}"
      ]
    },
    {
      "cell_type": "markdown",
      "metadata": {
        "id": "K8GtPPPJtR_v"
      },
      "source": [
        "Procederemos a compilar el programa:"
      ]
    },
    {
      "cell_type": "code",
      "execution_count": 59,
      "metadata": {
        "id": "2398XRnath1V"
      },
      "outputs": [],
      "source": [
        "!gcc -o treeC fork_tree.c"
      ]
    },
    {
      "cell_type": "markdown",
      "metadata": {
        "id": "qz-H7u9MtrOr"
      },
      "source": [
        "Y ahora a ejecutarlo:"
      ]
    },
    {
      "cell_type": "code",
      "execution_count": 60,
      "metadata": {
        "id": "jJQ-DpBCts74"
      },
      "outputs": [],
      "source": [
        "!nohup ./treeC 1>/dev/null 2>/dev/null &"
      ]
    },
    {
      "cell_type": "markdown",
      "metadata": {
        "id": "MRPSj0Jctuxn"
      },
      "source": [
        "Lo hacemos en 2do plano y con la redireccion de la salida para poder ejecutar el siguiente comando y visualizar el arbol de procesos generado:"
      ]
    },
    {
      "cell_type": "code",
      "execution_count": 62,
      "metadata": {
        "id": "2jEi3rCLt2P0",
        "outputId": "4a3643fe-b8b7-45af-a6af-295fe8252bde",
        "colab": {
          "base_uri": "https://localhost:8080/"
        }
      },
      "outputs": [
        {
          "output_type": "stream",
          "name": "stdout",
          "text": [
            "A(2182)───B(2183)─┬─C(2184)───E(2188)─┬─H(2189)\n",
            "                  │                   └─I(2190)\n",
            "                  └─D(2185)─┬─F(2186)\n",
            "                            └─G(2187)\n"
          ]
        }
      ],
      "source": [
        "!pstree -pc $(pgrep -f \"treeC\" | head -1)"
      ]
    },
    {
      "cell_type": "markdown",
      "metadata": {
        "id": "lZKnT4R4uB48"
      },
      "source": [
        "# Codigo en: **Java**"
      ]
    },
    {
      "cell_type": "code",
      "execution_count": 43,
      "metadata": {
        "colab": {
          "base_uri": "https://localhost:8080/"
        },
        "id": "Bi3eRV7OuEpZ",
        "outputId": "216be966-f975-4c73-a630-c8eca57f02c6"
      },
      "outputs": [
        {
          "output_type": "stream",
          "name": "stdout",
          "text": [
            "Writing MainProcess.java\n"
          ]
        }
      ],
      "source": [
        "%%writefile MainProcess.java\n",
        "package processes;\n",
        "\n",
        "import java.io.IOException;\n",
        "import java.util.ArrayList;\n",
        "import java.util.List;\n",
        "\n",
        "// para ver los procesos en ps: Get-Process | Where-Object { $_.Name -like \"java*\" }\n",
        "\n",
        "\n",
        "public class MainProcess {\n",
        "\n",
        "\tpublic static final int TIME_VERIFICATION = 4000;\n",
        "\n",
        "\tpublic static void main(String[] args) throws IOException, InterruptedException {\n",
        "\n",
        "\t\tProcessHandle process = ProcessHandle.current();\n",
        "\t\tlong pid = process.pid();\n",
        "    long ppid = process.parent().get().pid();\n",
        "    String processName=\"\";\n",
        "    if(args.length == 0) {\n",
        "      processName = \"A\";\n",
        "    } else {\n",
        "      processName = args[0];\n",
        "    }\n",
        "    System.out.println(\"Proceso: \"+ processName + \" PID:\" + pid + \" PID Padre: \" + ppid);\n",
        "\n",
        "    List<Process> childs = new ArrayList<>();\n",
        "    if(processName.equals(\"A\")) {\n",
        "      childs.add(createProcess(\"B\"));\n",
        "    }\n",
        "    else if(processName.equals(\"B\")){\n",
        "      childs.add(createProcess(\"C\"));\n",
        "      childs.add(createProcess(\"D\"));\n",
        "    }\n",
        "    else if(processName.equals(\"C\")) {\n",
        "      childs.add(createProcess(\"E\"));\n",
        "    }\n",
        "    else if(processName.equals(\"E\")) {\n",
        "      childs.add(createProcess(\"H\"));\n",
        "      childs.add(createProcess(\"I\"));\n",
        "    }\n",
        "    else if(processName.equals(\"D\")) {\n",
        "      childs.add(createProcess(\"F\"));\n",
        "      childs.add(createProcess(\"G\"));\n",
        "    }\n",
        "\n",
        "    Thread.sleep(TIME_VERIFICATION);\t//duerme todos los procesos\n",
        "    for(Process child : childs) {\n",
        "      child.waitFor(); // el proceso solo continua si el proceso hijo termina\n",
        "    }\n",
        "\t}\n",
        "\n",
        "\tprivate static Process createProcess(String processName) throws IOException, InterruptedException {\n",
        "\t\tProcessBuilder pb = new ProcessBuilder(\"java\", \"MainProcess.java\", processName);\n",
        "\t\tpb.inheritIO();\n",
        "\t\tProcess process = pb.start();\n",
        "\t\treturn process;\n",
        "\t}\n",
        "}\n"
      ]
    },
    {
      "cell_type": "markdown",
      "metadata": {
        "id": "AcvMmnbaueUc"
      },
      "source": [
        "Procedemos a ejecutar el programa:"
      ]
    },
    {
      "cell_type": "code",
      "execution_count": 44,
      "metadata": {
        "colab": {
          "base_uri": "https://localhost:8080/"
        },
        "id": "VH7sQUXVugeM",
        "outputId": "e2dbe187-f0b6-4984-babc-20573c20b632"
      },
      "outputs": [
        {
          "output_type": "stream",
          "name": "stdout",
          "text": [
            "nohup: redirecting stderr to stdout\n"
          ]
        }
      ],
      "source": [
        "!nohup java MainProcess.java >out.txt &"
      ]
    },
    {
      "cell_type": "markdown",
      "metadata": {
        "id": "07Jmhf_NuiK3"
      },
      "source": [
        "Como mencionamos antes, se ejecutara en 2do plano para poder visualizar el arbol de procesos:"
      ]
    },
    {
      "cell_type": "code",
      "execution_count": 55,
      "metadata": {
        "colab": {
          "base_uri": "https://localhost:8080/"
        },
        "id": "zAOK0ih8uoPs",
        "outputId": "8e1265c1-7abb-4db6-8b53-be73e161a937"
      },
      "outputs": [
        {
          "output_type": "stream",
          "name": "stdout",
          "text": [
            "root        1826       1 17 13:07 ?        00:00:03 java MainProcess.java\n",
            "root        1856    1826 15 13:07 ?        00:00:02 java MainProcess.java B\n",
            "root        1890    1856 19 13:07 ?        00:00:02 java MainProcess.java C\n",
            "root        1949    1890 31 13:07 ?        00:00:03 java MainProcess.java E\n",
            "root        2033    1949 50 13:07 ?        00:00:03 java MainProcess.java H\n",
            "root        2036    1949 42 13:07 ?        00:00:02 java MainProcess.java I\n",
            "root        2102     327  0 13:07 ?        00:00:00 /bin/bash -c ps -ef | grep MainProcess.java\n",
            "root        2104    2102  0 13:07 ?        00:00:00 grep MainProcess.java\n"
          ]
        }
      ],
      "source": [
        "!ps -ef | grep MainProcess.java"
      ]
    },
    {
      "cell_type": "markdown",
      "metadata": {
        "id": "NATNfw_qu3F6"
      },
      "source": [
        "Ademas, el siguiente comando muestra la salida del programa:"
      ]
    },
    {
      "cell_type": "code",
      "execution_count": 56,
      "metadata": {
        "colab": {
          "base_uri": "https://localhost:8080/"
        },
        "id": "dJ4jDQkuu6ih",
        "outputId": "6ac69c04-d269-4298-cd04-3e8f8000cc67"
      },
      "outputs": [
        {
          "output_type": "stream",
          "name": "stdout",
          "text": [
            "Proceso: A PID:1826 PID Padre: 1\n",
            "Proceso: B PID:1856 PID Padre: 1826\n",
            "Proceso: C PID:1890 PID Padre: 1856\n",
            "Proceso: D PID:1893 PID Padre: 1856\n",
            "Proceso: E PID:1949 PID Padre: 1890\n",
            "Proceso: G PID:1970 PID Padre: 1893\n",
            "Proceso: F PID:1960 PID Padre: 1893\n",
            "Proceso: H PID:2033 PID Padre: 1949\n",
            "Proceso: I PID:2036 PID Padre: 1949\n"
          ]
        }
      ],
      "source": [
        "!cat out.txt"
      ]
    },
    {
      "cell_type": "markdown",
      "metadata": {
        "id": "FMlf-0wzvLU4"
      },
      "source": [
        "# Codigo en: **Python**"
      ]
    },
    {
      "cell_type": "code",
      "execution_count": null,
      "metadata": {
        "id": "-dez8tbKvZVG"
      },
      "outputs": [],
      "source": [
        "%%writefile tree.py\n",
        "\n",
        "import time\n",
        "import os\n",
        "\n",
        "PADDING = 4\n",
        "SLEEP_TIME = 5\n",
        "\n",
        "\n",
        "def print_proc(name):\n",
        "    st = f\"{name} {os.getpid()}\"\n",
        "    extra_padding = 0\n",
        "\n",
        "    if name == \"B\":\n",
        "        extra_padding = 1\n",
        "    elif name in (\"C\", \"D\"):\n",
        "        extra_padding = 2\n",
        "    elif name in (\"E\", \"F\", \"G\"):\n",
        "        extra_padding = 3\n",
        "    elif name in (\"H\", \"I\"):\n",
        "        extra_padding = 4\n",
        "\n",
        "    print(st.rjust(extra_padding*PADDING+len(st)))\n",
        "\n",
        "\n",
        "def create_leaf(name):\n",
        "    print_proc(name)\n",
        "    time.sleep(SLEEP_TIME)\n",
        "\n",
        "\n",
        "if __name__ == \"__main__\":\n",
        "    try:\n",
        "        print_proc(\"A\")\n",
        "\n",
        "        new_proc = os.fork()\n",
        "        if new_proc != 0:\n",
        "            # Seguimos en el padre (A)\n",
        "            os.wait()  # Que espere a los hijos\n",
        "        else:\n",
        "            # Estamos en el hijo (B)\n",
        "            print_proc(\"B\")\n",
        "\n",
        "            new_proc = os.fork()\n",
        "            if new_proc == 0:\n",
        "                # Estamos en el 1er hijo (C)\n",
        "                print_proc(\"C\")\n",
        "\n",
        "                new_proc = os.fork()\n",
        "                if new_proc != 0:\n",
        "                    # Seguimos en el padre (C)\n",
        "                    os.wait()\n",
        "                else:\n",
        "                    # Estamos en el hijo (E)\n",
        "                    print_proc(\"E\")\n",
        "\n",
        "                    new_proc = os.fork()\n",
        "                    if new_proc == 0:\n",
        "                        create_leaf(\"H\")\n",
        "                    else:\n",
        "                        new_proc = os.fork()\n",
        "\n",
        "                        if new_proc != 0:\n",
        "                            os.wait()\n",
        "                        else:\n",
        "                            create_leaf(\"I\")\n",
        "            else:\n",
        "                # Seguimos en el padre (B)\n",
        "                new_proc = os.fork()\n",
        "                if new_proc != 0:\n",
        "                    # Seguimos en el padre (B)\n",
        "                    os.wait()\n",
        "                else:\n",
        "                    # Estamos en el 2do hijo (D)\n",
        "                    print_proc(\"D\")\n",
        "\n",
        "                    new_proc = os.fork()\n",
        "                    if new_proc == 0:\n",
        "                        create_leaf(\"F\")\n",
        "                    else:\n",
        "                        new_proc = os.fork()\n",
        "                        if new_proc != 0:\n",
        "                            os.wait()\n",
        "                        else:\n",
        "                            create_leaf(\"G\")\n",
        "\n",
        "    except Exception as e:\n",
        "        print(e)\n"
      ]
    },
    {
      "cell_type": "markdown",
      "source": [
        "Ahora lo ejecutamos en 2do plano:"
      ],
      "metadata": {
        "id": "o3X02SlYBgbk"
      }
    },
    {
      "cell_type": "code",
      "execution_count": 34,
      "metadata": {
        "id": "8sRufhiRBc7U",
        "outputId": "a93df60b-a6d6-49f8-bec5-82b57a5cad3a",
        "colab": {
          "base_uri": "https://localhost:8080/"
        }
      },
      "outputs": [
        {
          "output_type": "stream",
          "name": "stdout",
          "text": [
            "nohup: redirecting stderr to stdout\n"
          ]
        }
      ],
      "source": [
        "!nohup python3 tree.py > tree.txt &"
      ]
    },
    {
      "cell_type": "markdown",
      "source": [
        "Con el siguiente comando vemos el arbol generado"
      ],
      "metadata": {
        "id": "aYPnjZJDBjQ3"
      }
    },
    {
      "cell_type": "code",
      "source": [
        "!ps -ef | grep tree.py"
      ],
      "metadata": {
        "id": "3CwAOg7uBmNq",
        "outputId": "707530bb-f004-4b3d-c356-62f7cd5b0b0f",
        "colab": {
          "base_uri": "https://localhost:8080/"
        }
      },
      "execution_count": 35,
      "outputs": [
        {
          "output_type": "stream",
          "name": "stdout",
          "text": [
            "root        1365       1  1 13:05 ?        00:00:00 python3 tree.py\n",
            "root        1366    1365  0 13:05 ?        00:00:00 python3 tree.py\n",
            "root        1367    1366  0 13:05 ?        00:00:00 python3 tree.py\n",
            "root        1368    1366  0 13:05 ?        00:00:00 python3 tree.py\n",
            "root        1369    1367  0 13:05 ?        00:00:00 python3 tree.py\n",
            "root        1370    1368  0 13:05 ?        00:00:00 python3 tree.py\n",
            "root        1371    1369  0 13:05 ?        00:00:00 python3 tree.py\n",
            "root        1372    1368  0 13:05 ?        00:00:00 python3 tree.py\n",
            "root        1373    1369  0 13:05 ?        00:00:00 python3 tree.py\n",
            "root        1378     327  0 13:05 ?        00:00:00 /bin/bash -c ps -ef | grep tree.py\n",
            "root        1380    1378  0 13:05 ?        00:00:00 grep tree.py\n"
          ]
        }
      ]
    },
    {
      "cell_type": "markdown",
      "source": [
        "Y la salida del archivo:"
      ],
      "metadata": {
        "id": "3nAQT9CMBpFQ"
      }
    },
    {
      "cell_type": "code",
      "source": [
        "!cat tree.txt"
      ],
      "metadata": {
        "id": "2l59hPj8Bnlv"
      },
      "execution_count": null,
      "outputs": []
    }
  ],
  "metadata": {
    "colab": {
      "provenance": [],
      "include_colab_link": true
    },
    "kernelspec": {
      "display_name": "Python 3",
      "name": "python3"
    },
    "language_info": {
      "name": "python",
      "version": "3.11.9"
    }
  },
  "nbformat": 4,
  "nbformat_minor": 0
}