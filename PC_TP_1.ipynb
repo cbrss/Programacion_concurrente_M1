{
  "nbformat": 4,
  "nbformat_minor": 0,
  "metadata": {
    "colab": {
      "provenance": [],
      "authorship_tag": "ABX9TyMzVPIzsLoav04JAEsIUfzZ",
      "include_colab_link": true
    },
    "kernelspec": {
      "name": "python3",
      "display_name": "Python 3"
    },
    "language_info": {
      "name": "python"
    }
  },
  "cells": [
    {
      "cell_type": "markdown",
      "metadata": {
        "id": "view-in-github",
        "colab_type": "text"
      },
      "source": [
        "<a href=\"https://colab.research.google.com/github/cbrss/Programacion_concurrente_M1/blob/main/PC_TP_1.ipynb\" target=\"_parent\"><img src=\"https://colab.research.google.com/assets/colab-badge.svg\" alt=\"Open In Colab\"/></a>"
      ]
    },
    {
      "cell_type": "markdown",
      "source": [
        "# Codigo en: **C**"
      ],
      "metadata": {
        "id": "xJ9ciKbyt4qw"
      }
    },
    {
      "cell_type": "code",
      "execution_count": null,
      "metadata": {
        "id": "OsHOnv-Hm-bQ"
      },
      "outputs": [],
      "source": [
        "%%writefile fork_tree.c\n",
        "\n",
        "#include <stdlib.h>\n",
        "#include <stdio.h>\n",
        "#include <unistd.h>\n",
        "#include <sys/wait.h>\n",
        "\n",
        "#include <string.h>\n",
        "#include <linux/prctl.h>\n",
        "#include <sys/prctl.h>\n",
        "\n",
        "#define EXIT_SUCCESS 0\n",
        "#define TIMETOSLEEP 30\n",
        "\n",
        "void errorChild(char* nameChild);\n",
        "void changeName(char* name);\n",
        "void sleepAndWait(int cantWaits);\n",
        "\n",
        "int main()\n",
        "{\n",
        "    int i;\n",
        "    pid_t pid = fork();\n",
        "\n",
        "\n",
        "    if(pid<0)\n",
        "    {\n",
        "        errorChild(\"B\");\n",
        "        return EXIT_FAILURE;\n",
        "    }\n",
        "    if(pid)//A\n",
        "    {\n",
        "        changeName(\"A\");\n",
        "        sleepAndWait(1);\n",
        "        return EXIT_SUCCESS;\n",
        "    }\n",
        "    //B\n",
        "    changeName(\"B\");\n",
        "    pid=fork();\n",
        "    if(pid<0)\n",
        "    {\n",
        "        errorChild(\"C\");\n",
        "        return EXIT_FAILURE;\n",
        "    }\n",
        "    if(!pid) //c\n",
        "    {\n",
        "        changeName(\"C\");\n",
        "        pid=fork();\n",
        "        if(pid<0)\n",
        "        {\n",
        "            errorChild(\"E\");\n",
        "            return EXIT_FAILURE;\n",
        "        }\n",
        "        if(pid) //C\n",
        "        {\n",
        "            sleepAndWait(1);\n",
        "            return EXIT_SUCCESS;\n",
        "        }\n",
        "        //E\n",
        "        changeName(\"E\");\n",
        "        for(i=0; i<2; i++) //H - I\n",
        "        {\n",
        "            pid=fork();\n",
        "            if(pid<0)\n",
        "            {\n",
        "                errorChild(i==0?\"H\":\"I\");\n",
        "                return EXIT_FAILURE;\n",
        "            }\n",
        "            if(!pid)\n",
        "            {\n",
        "                changeName(i==0?\"H\":\"I\");\n",
        "                sleepAndWait(0);\n",
        "                return EXIT_SUCCESS;\n",
        "            }\n",
        "        }\n",
        "        sleepAndWait(2);\n",
        "        return EXIT_SUCCESS;\n",
        "    }\n",
        "\n",
        "    //sigue b PARA D\n",
        "    pid=fork();\n",
        "    if(pid<0)\n",
        "    {\n",
        "        errorChild(\"D\");\n",
        "        return EXIT_FAILURE;\n",
        "    }\n",
        "    if(!pid) // D\n",
        "    {\n",
        "        changeName(\"D\");\n",
        "        for(i=0; i<2; i++) //F - G\n",
        "        {\n",
        "            pid=fork();\n",
        "            if(pid<0)\n",
        "            {\n",
        "                errorChild(i==0?\"F\":\"G\");\n",
        "                return EXIT_FAILURE;\n",
        "            }\n",
        "            if(!pid)\n",
        "            {\n",
        "                changeName(i==0?\"F\":\"G\");\n",
        "                sleepAndWait(0);\n",
        "                return EXIT_SUCCESS;\n",
        "            }\n",
        "        }\n",
        "        sleepAndWait(2);\n",
        "        return EXIT_SUCCESS;\n",
        "    }\n",
        "    //sigue b\n",
        "    sleepAndWait(2);\n",
        "    return EXIT_SUCCESS;\n",
        "}\n",
        "\n",
        "void errorChild(char* nameChild)\n",
        "{\n",
        "  printf(\"Error de creación de %s\\n\",nameChild);\n",
        "}\n",
        "\n",
        "void changeName(char* name)\n",
        "{\n",
        "  char auxCad[16]=\"NameDefault\";\n",
        "  prctl(PR_SET_NAME, strcpy(auxCad,name),NULL,NULL,NULL);\n",
        "}\n",
        "\n",
        "void sleepAndWait(int cantWaits)\n",
        "{\n",
        "  int i;\n",
        "  sleep(TIMETOSLEEP);\n",
        "  for(i=0;i<cantWaits;i++)\n",
        "    wait(NULL);\n",
        "}"
      ]
    },
    {
      "cell_type": "markdown",
      "source": [
        "Procederemos a compilar el programa:"
      ],
      "metadata": {
        "id": "K8GtPPPJtR_v"
      }
    },
    {
      "cell_type": "code",
      "source": [
        "!gcc -o treeC fork_tree.c"
      ],
      "metadata": {
        "id": "2398XRnath1V"
      },
      "execution_count": null,
      "outputs": []
    },
    {
      "cell_type": "markdown",
      "source": [
        "Y ahora a ejecutarlo:"
      ],
      "metadata": {
        "id": "qz-H7u9MtrOr"
      }
    },
    {
      "cell_type": "code",
      "source": [
        "!nohup ./treeC 1>/dev/null 2>/dev/null &"
      ],
      "metadata": {
        "id": "jJQ-DpBCts74"
      },
      "execution_count": null,
      "outputs": []
    },
    {
      "cell_type": "markdown",
      "source": [
        "Lo hacemos en 2do plano y con la redireccion de la salida para poder ejecutar el siguiente comando y visualizar el arbol de procesos generado:"
      ],
      "metadata": {
        "id": "MRPSj0Jctuxn"
      }
    },
    {
      "cell_type": "code",
      "source": [
        "!pstree -pc $(pgrep -f \"treeC\" | head -1)"
      ],
      "metadata": {
        "id": "2jEi3rCLt2P0"
      },
      "execution_count": null,
      "outputs": []
    },
    {
      "cell_type": "markdown",
      "source": [
        "# Codigo en: **Java**"
      ],
      "metadata": {
        "id": "lZKnT4R4uB48"
      }
    },
    {
      "cell_type": "code",
      "source": [
        "%%writefile MainProcess.java\n",
        "package processes;\n",
        "\n",
        "import java.io.IOException;\n",
        "import java.util.ArrayList;\n",
        "import java.util.List;\n",
        "\n",
        "// para ver los procesos en ps: Get-Process | Where-Object { $_.Name -like \"java*\" }\n",
        "\n",
        "\n",
        "public class MainProcess {\n",
        "\n",
        "\tpublic static final int TIME_VERIFICATION = 4000;\n",
        "\n",
        "\tpublic static void main(String[] args) throws IOException, InterruptedException {\n",
        "\n",
        "\t\tProcessHandle process = ProcessHandle.current();\n",
        "\t\tlong pid = process.pid();\n",
        "    long ppid = process.parent().get().pid();\n",
        "    String processName=\"\";\n",
        "    if(args.length == 0) {\n",
        "      processName = \"A\";\n",
        "    } else {\n",
        "      processName = args[0];\n",
        "    }\n",
        "    System.out.println(\"Proceso: \"+ processName + \" PID:\" + pid + \" PID Padre: \" + ppid);\n",
        "\n",
        "    List<Process> childs = new ArrayList<>();\n",
        "    if(processName.equals(\"A\")) {\n",
        "      childs.add(createProcess(\"B\"));\n",
        "    }\n",
        "    else if(processName.equals(\"B\")){\n",
        "      childs.add(createProcess(\"C\"));\n",
        "      childs.add(createProcess(\"D\"));\n",
        "    }\n",
        "    else if(processName.equals(\"C\")) {\n",
        "      childs.add(createProcess(\"E\"));\n",
        "    }\n",
        "    else if(processName.equals(\"E\")) {\n",
        "      childs.add(createProcess(\"H\"));\n",
        "      childs.add(createProcess(\"I\"));\n",
        "    }\n",
        "    else if(processName.equals(\"D\")) {\n",
        "      childs.add(createProcess(\"F\"));\n",
        "      childs.add(createProcess(\"G\"));\n",
        "    }\n",
        "\n",
        "    Thread.sleep(TIME_VERIFICATION);\t//duerme todos los procesos\n",
        "    for(Process child : childs) {\n",
        "      child.waitFor(); // el proceso solo continua si el proceso hijo termina\n",
        "    }\n",
        "\t}\n",
        "\n",
        "\tprivate static Process createProcess(String processName) throws IOException, InterruptedException {\n",
        "\t\tProcessBuilder pb = new ProcessBuilder(\"java\", \"MainProcess.java\", processName);\n",
        "\t\tpb.inheritIO();\n",
        "\t\tProcess process = pb.start();\n",
        "\t\treturn process;\n",
        "\t}\n",
        "}\n"
      ],
      "metadata": {
        "id": "Bi3eRV7OuEpZ",
        "outputId": "5e949e37-1466-4672-cf42-e3be49e47a8d",
        "colab": {
          "base_uri": "https://localhost:8080/"
        }
      },
      "execution_count": 10,
      "outputs": [
        {
          "output_type": "stream",
          "name": "stdout",
          "text": [
            "Overwriting MainProcess.java\n"
          ]
        }
      ]
    },
    {
      "cell_type": "markdown",
      "source": [
        "Procedemos a ejecutar el programa:"
      ],
      "metadata": {
        "id": "AcvMmnbaueUc"
      }
    },
    {
      "cell_type": "code",
      "source": [
        "!nohup java MainProcess.java >out.txt &"
      ],
      "metadata": {
        "id": "VH7sQUXVugeM",
        "outputId": "3cb8c306-f6b9-4bf2-e3e1-80b8457d33ff",
        "colab": {
          "base_uri": "https://localhost:8080/"
        }
      },
      "execution_count": 11,
      "outputs": [
        {
          "output_type": "stream",
          "name": "stdout",
          "text": [
            "nohup: redirecting stderr to stdout\n"
          ]
        }
      ]
    },
    {
      "cell_type": "markdown",
      "source": [
        "Como mencionamos antes, se ejecutara en 2do plano para poder visualizar el arbol de procesos:"
      ],
      "metadata": {
        "id": "07Jmhf_NuiK3"
      }
    },
    {
      "cell_type": "code",
      "source": [
        "!ps -ef | grep MainProcess.java"
      ],
      "metadata": {
        "id": "zAOK0ih8uoPs",
        "outputId": "6dc26146-d964-4f75-8bc8-8d6b95186df3",
        "colab": {
          "base_uri": "https://localhost:8080/"
        }
      },
      "execution_count": 19,
      "outputs": [
        {
          "output_type": "stream",
          "name": "stdout",
          "text": [
            "root        1327       1 22 19:07 ?        00:00:02 java MainProcess.java\n",
            "root        1352    1327 20 19:07 ?        00:00:02 java MainProcess.java B\n",
            "root        1382    1352 26 19:07 ?        00:00:02 java MainProcess.java C\n",
            "root        1385    1352 23 19:07 ?        00:00:02 java MainProcess.java D\n",
            "root        1440    1382 37 19:07 ?        00:00:02 java MainProcess.java E\n",
            "root        1454    1385 37 19:07 ?        00:00:02 java MainProcess.java F\n",
            "root        1457    1385 40 19:07 ?        00:00:02 java MainProcess.java G\n",
            "root        1524    1440 72 19:08 ?        00:00:01 java MainProcess.java H\n",
            "root        1530    1440 71 19:08 ?        00:00:01 java MainProcess.java I\n",
            "root        1572     810  0 19:08 ?        00:00:00 /bin/bash -c ps -ef | grep MainProcess.java\n",
            "root        1574    1572  0 19:08 ?        00:00:00 grep MainProcess.java\n"
          ]
        }
      ]
    },
    {
      "cell_type": "markdown",
      "source": [
        "Ademas, el siguiente comando muestra la salida del programa:"
      ],
      "metadata": {
        "id": "NATNfw_qu3F6"
      }
    },
    {
      "cell_type": "code",
      "source": [
        "!cat out.txt"
      ],
      "metadata": {
        "id": "dJ4jDQkuu6ih",
        "outputId": "eaa555e9-82f4-46fa-b3be-31a942509576",
        "colab": {
          "base_uri": "https://localhost:8080/"
        }
      },
      "execution_count": 21,
      "outputs": [
        {
          "output_type": "stream",
          "name": "stdout",
          "text": [
            "Proceso: A PID:1327 PID Padre: 1\n",
            "Proceso: B PID:1352 PID Padre: 1327\n",
            "Proceso: C PID:1382 PID Padre: 1352\n",
            "Proceso: D PID:1385 PID Padre: 1352\n",
            "Proceso: F PID:1454 PID Padre: 1385\n",
            "Proceso: E PID:1440 PID Padre: 1382\n",
            "Proceso: G PID:1457 PID Padre: 1385\n",
            "Proceso: I PID:1530 PID Padre: 1440\n",
            "Proceso: H PID:1524 PID Padre: 1440\n"
          ]
        }
      ]
    },
    {
      "cell_type": "markdown",
      "source": [
        "# Codigo en: **Python**"
      ],
      "metadata": {
        "id": "FMlf-0wzvLU4"
      }
    },
    {
      "cell_type": "code",
      "source": [
        "import time\n",
        "import os\n",
        "\n",
        "\n",
        "def print_proc(name):\n",
        "    st = f\"{name} {os.getpid()}\"\n",
        "    extra_padding = 0\n",
        "\n",
        "    if name == \"B\":\n",
        "        extra_padding = 1\n",
        "    elif name in (\"C\", \"D\"):\n",
        "        extra_padding = 2\n",
        "    elif name in (\"E\", \"F\", \"G\"):\n",
        "        extra_padding = 3\n",
        "    elif name in (\"H\", \"I\"):\n",
        "        extra_padding = 4\n",
        "\n",
        "    print(st.rjust(extra_padding*4+len(st)))\n",
        "\n",
        "\n",
        "def create_leaf(name):\n",
        "    print_proc(name)\n",
        "    time.sleep(60)\n",
        "\n",
        "\n",
        "if __name__ == \"__main__\":\n",
        "    try:\n",
        "        print_proc(\"A\")\n",
        "\n",
        "        new_proc = os.fork()\n",
        "        if new_proc != 0:\n",
        "            # Seguimos en el padre (A)\n",
        "            os.wait()  # Que espere a los hijos\n",
        "        else:\n",
        "            # Estamos en el hijo (B)\n",
        "            print_proc(\"B\")\n",
        "\n",
        "            new_proc = os.fork()\n",
        "            if new_proc == 0:\n",
        "                # Estamos en el 1er hijo (C)\n",
        "                print_proc(\"C\")\n",
        "\n",
        "                new_proc = os.fork()\n",
        "                if new_proc != 0:\n",
        "                    # Seguimos en el padre (C)\n",
        "                    os.wait()\n",
        "                else:\n",
        "                    # Estamos en el hijo (E)\n",
        "                    print_proc(\"E\")\n",
        "\n",
        "                    new_proc = os.fork()\n",
        "                    if new_proc == 0:\n",
        "                        create_leaf(\"H\")\n",
        "                    else:\n",
        "                        new_proc = os.fork()\n",
        "\n",
        "                        if new_proc != 0:\n",
        "                            os.wait()\n",
        "                        else:\n",
        "                            create_leaf(\"I\")\n",
        "            else:\n",
        "                # Seguimos en el padre (B)\n",
        "                new_proc = os.fork()\n",
        "                if new_proc != 0:\n",
        "                    # Seguimos en el padre (B)\n",
        "                    os.wait()\n",
        "                else:\n",
        "                    # Estamos en el 2do hijo (D)\n",
        "                    print_proc(\"D\")\n",
        "\n",
        "                    new_proc = os.fork()\n",
        "                    if new_proc == 0:\n",
        "                        create_leaf(\"F\")\n",
        "                    else:\n",
        "                        new_proc = os.fork()\n",
        "                        if new_proc != 0:\n",
        "                            os.wait()\n",
        "                        else:\n",
        "                            create_leaf(\"G\")\n",
        "\n",
        "    except Exception as e:\n",
        "        print(e)"
      ],
      "metadata": {
        "id": "-dez8tbKvZVG",
        "outputId": "de7900bd-964a-4d5f-af05-6bac2044b30e",
        "colab": {
          "base_uri": "https://localhost:8080/",
          "height": 699
        }
      },
      "execution_count": null,
      "outputs": [
        {
          "output_type": "stream",
          "name": "stdout",
          "text": [
            "A 810\n",
            "    B 2017\n",
            "        C 2022        D 2023\n",
            "\n",
            "            E 2032\n",
            "            F 2035            G 2036                H 2040\n",
            "\n",
            "\n",
            "                I 2044\n",
            "A 810\n"
          ]
        },
        {
          "output_type": "error",
          "ename": "KeyboardInterrupt",
          "evalue": "",
          "traceback": [
            "\u001b[0;31m---------------------------------------------------------------------------\u001b[0m",
            "\u001b[0;31mKeyboardInterrupt\u001b[0m                         Traceback (most recent call last)",
            "\u001b[0;32m<ipython-input-22-985e3c97a3ce>\u001b[0m in \u001b[0;36m<cell line: 26>\u001b[0;34m()\u001b[0m\n\u001b[1;32m     58\u001b[0m                             \u001b[0mos\u001b[0m\u001b[0;34m.\u001b[0m\u001b[0mwait\u001b[0m\u001b[0;34m(\u001b[0m\u001b[0;34m)\u001b[0m\u001b[0;34m\u001b[0m\u001b[0;34m\u001b[0m\u001b[0m\n\u001b[1;32m     59\u001b[0m                         \u001b[0;32melse\u001b[0m\u001b[0;34m:\u001b[0m\u001b[0;34m\u001b[0m\u001b[0;34m\u001b[0m\u001b[0m\n\u001b[0;32m---> 60\u001b[0;31m                             \u001b[0mcreate_leaf\u001b[0m\u001b[0;34m(\u001b[0m\u001b[0;34m\"I\"\u001b[0m\u001b[0;34m)\u001b[0m\u001b[0;34m\u001b[0m\u001b[0;34m\u001b[0m\u001b[0m\n\u001b[0m\u001b[1;32m     61\u001b[0m             \u001b[0;32melse\u001b[0m\u001b[0;34m:\u001b[0m\u001b[0;34m\u001b[0m\u001b[0;34m\u001b[0m\u001b[0m\n\u001b[1;32m     62\u001b[0m                 \u001b[0;31m# Seguimos en el padre (B)\u001b[0m\u001b[0;34m\u001b[0m\u001b[0;34m\u001b[0m\u001b[0m\n",
            "\u001b[0;32m<ipython-input-22-985e3c97a3ce>\u001b[0m in \u001b[0;36mcreate_leaf\u001b[0;34m(name)\u001b[0m\n\u001b[1;32m     21\u001b[0m \u001b[0;32mdef\u001b[0m \u001b[0mcreate_leaf\u001b[0m\u001b[0;34m(\u001b[0m\u001b[0mname\u001b[0m\u001b[0;34m)\u001b[0m\u001b[0;34m:\u001b[0m\u001b[0;34m\u001b[0m\u001b[0;34m\u001b[0m\u001b[0m\n\u001b[1;32m     22\u001b[0m     \u001b[0mprint_proc\u001b[0m\u001b[0;34m(\u001b[0m\u001b[0mname\u001b[0m\u001b[0;34m)\u001b[0m\u001b[0;34m\u001b[0m\u001b[0;34m\u001b[0m\u001b[0m\n\u001b[0;32m---> 23\u001b[0;31m     \u001b[0mtime\u001b[0m\u001b[0;34m.\u001b[0m\u001b[0msleep\u001b[0m\u001b[0;34m(\u001b[0m\u001b[0;36m60\u001b[0m\u001b[0;34m)\u001b[0m\u001b[0;34m\u001b[0m\u001b[0;34m\u001b[0m\u001b[0m\n\u001b[0m\u001b[1;32m     24\u001b[0m \u001b[0;34m\u001b[0m\u001b[0m\n\u001b[1;32m     25\u001b[0m \u001b[0;34m\u001b[0m\u001b[0m\n",
            "\u001b[0;31mKeyboardInterrupt\u001b[0m: "
          ]
        },
        {
          "output_type": "error",
          "ename": "KeyboardInterrupt",
          "evalue": "",
          "traceback": [
            "\u001b[0;31m---------------------------------------------------------------------------\u001b[0m",
            "\u001b[0;31mKeyboardInterrupt\u001b[0m                         Traceback (most recent call last)",
            "\u001b[0;32m<ipython-input-22-985e3c97a3ce>\u001b[0m in \u001b[0;36m<cell line: 26>\u001b[0;34m()\u001b[0m\n\u001b[1;32m     75\u001b[0m                         \u001b[0mnew_proc\u001b[0m \u001b[0;34m=\u001b[0m \u001b[0mos\u001b[0m\u001b[0;34m.\u001b[0m\u001b[0mfork\u001b[0m\u001b[0;34m(\u001b[0m\u001b[0;34m)\u001b[0m\u001b[0;34m\u001b[0m\u001b[0;34m\u001b[0m\u001b[0m\n\u001b[1;32m     76\u001b[0m                         \u001b[0;32mif\u001b[0m \u001b[0mnew_proc\u001b[0m \u001b[0;34m!=\u001b[0m \u001b[0;36m0\u001b[0m\u001b[0;34m:\u001b[0m\u001b[0;34m\u001b[0m\u001b[0;34m\u001b[0m\u001b[0m\n\u001b[0;32m---> 77\u001b[0;31m                             \u001b[0mos\u001b[0m\u001b[0;34m.\u001b[0m\u001b[0mwait\u001b[0m\u001b[0;34m(\u001b[0m\u001b[0;34m)\u001b[0m\u001b[0;34m\u001b[0m\u001b[0;34m\u001b[0m\u001b[0m\n\u001b[0m\u001b[1;32m     78\u001b[0m                         \u001b[0;32melse\u001b[0m\u001b[0;34m:\u001b[0m\u001b[0;34m\u001b[0m\u001b[0;34m\u001b[0m\u001b[0m\n\u001b[1;32m     79\u001b[0m                             \u001b[0mcreate_leaf\u001b[0m\u001b[0;34m(\u001b[0m\u001b[0;34m\"G\"\u001b[0m\u001b[0;34m)\u001b[0m\u001b[0;34m\u001b[0m\u001b[0;34m\u001b[0m\u001b[0m\n",
            "\u001b[0;31mKeyboardInterrupt\u001b[0m: "
          ]
        }
      ]
    }
  ]
}